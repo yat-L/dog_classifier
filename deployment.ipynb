{
 "cells": [
  {
   "cell_type": "code",
   "execution_count": 1,
   "metadata": {},
   "outputs": [],
   "source": [
    "#update all pip package\n",
    "#!pip list --outdated --format=freeze | grep -v '^\\-e' | cut -d = -f 1  | xargs -n1 pip install -U"
   ]
  },
  {
   "cell_type": "code",
   "execution_count": 2,
   "metadata": {},
   "outputs": [],
   "source": [
    "from fastbook import *\n",
    "from fastai.vision.widgets import *"
   ]
  },
  {
   "cell_type": "code",
   "execution_count": 3,
   "metadata": {},
   "outputs": [],
   "source": [
    "#!pip install voila\n",
    "#!pip install streamlit"
   ]
  },
  {
   "cell_type": "code",
   "execution_count": 4,
   "metadata": {},
   "outputs": [],
   "source": [
    "#!jupyter serverextension enable voila --sys-prefix\n"
   ]
  },
  {
   "cell_type": "code",
   "execution_count": 5,
   "metadata": {},
   "outputs": [],
   "source": [
    "learn_inf = load_learner('export.pkl')"
   ]
  },
  {
   "cell_type": "code",
   "execution_count": 6,
   "metadata": {},
   "outputs": [],
   "source": [
    "show_upload = widgets.Output()\n",
    "prediction_result = widgets.Label()"
   ]
  },
  {
   "cell_type": "code",
   "execution_count": 7,
   "metadata": {},
   "outputs": [],
   "source": [
    "upload_button = widgets.FileUpload()"
   ]
  },
  {
   "cell_type": "code",
   "execution_count": 8,
   "metadata": {},
   "outputs": [],
   "source": [
    "classify_button = widgets.Button(description='Classify')"
   ]
  },
  {
   "cell_type": "code",
   "execution_count": 9,
   "metadata": {},
   "outputs": [],
   "source": [
    "def on_click_classify(change):\n",
    "    image = PILImage.create(upload_button.data[-1])\n",
    "    show_upload.clear_output()\n",
    "    with show_upload: display(image.to_thumb(128,128))\n",
    "    prediction, index, proba = learn_inf.predict(image)\n",
    "    prediction_result.value = f'Prediction: {prediction}; Probability: {proba[index]:.04f}'\n",
    "\n",
    "classify_button.on_click(on_click_classify)"
   ]
  },
  {
   "cell_type": "code",
   "execution_count": 10,
   "metadata": {},
   "outputs": [
    {
     "data": {
      "application/vnd.jupyter.widget-view+json": {
       "model_id": "637956a5d3d6484bb60b4354d8f5373a",
       "version_major": 2,
       "version_minor": 0
      },
      "text/plain": [
       "VBox(children=(Label(value='Select a picture of a golden retriever / shiba / bulldog / german shepherd / beagl…"
      ]
     },
     "metadata": {},
     "output_type": "display_data"
    }
   ],
   "source": [
    "VBox([widgets.Label('Select a picture of a golden retriever / shiba / bulldog / german shepherd / beagles .'),\n",
    "      upload_button, classify_button, show_upload, prediction_result])"
   ]
  },
  {
   "cell_type": "code",
   "execution_count": 11,
   "metadata": {},
   "outputs": [
    {
     "name": "stdout",
     "output_type": "stream",
     "text": [
      "[NbConvertApp] Converting notebook deployment.ipynb to script\n",
      "[NbConvertApp] Writing 1627 bytes to deployment.py\n",
      "\u001b[0m\n",
      "\u001b[34m\u001b[1m  You can now view your Streamlit app in your browser.\u001b[0m\n",
      "\u001b[0m\n",
      "\u001b[34m  Network URL: \u001b[0m\u001b[1mhttp://172.17.0.2:8501\u001b[0m\n",
      "\u001b[34m  External URL: \u001b[0m\u001b[1mhttp://184.105.175.133:8501\u001b[0m\n",
      "\u001b[0m\n",
      "^C\n",
      "\u001b[34m  Stopping...\u001b[0m\n"
     ]
    }
   ],
   "source": [
    "# streamlit\n",
    "#!jupyter nbconvert   --to script deployment.ipynb\n",
    "#!awk '!/ipython/' deployment.py >  temp.py && mv temp.py app.py && rm deployment.py\n",
    "#!streamlit run app.py"
   ]
  },
  {
   "cell_type": "code",
   "execution_count": 12,
   "metadata": {},
   "outputs": [
    {
     "name": "stdout",
     "output_type": "stream",
     "text": [
      "Name: fastai\r\n",
      "Version: 2.1.8\r\n",
      "Summary: fastai simplifies training fast and accurate neural nets using modern best practices\r\n",
      "Home-page: https://github.com/fastai/fastai/tree/master/\r\n",
      "Author: Jeremy Howard, Sylvain Gugger, and contributors\r\n",
      "Author-email: info@fast.ai\r\n",
      "License: Apache Software License 2.0\r\n",
      "Location: /opt/conda/envs/fastai/lib/python3.8/site-packages\r\n",
      "Requires: matplotlib, scikit-learn, spacy, pillow, torchvision, torch, scipy, packaging, pandas, pyyaml, requests, pip, fastcore, fastprogress\r\n",
      "Required-by: fastbook\r\n"
     ]
    }
   ],
   "source": [
    "#! pip show fastai"
   ]
  },
  {
   "cell_type": "code",
   "execution_count": 13,
   "metadata": {},
   "outputs": [
    {
     "name": "stdout",
     "output_type": "stream",
     "text": [
      "Name: fastbook\r\n",
      "Version: 0.0.16\r\n",
      "Summary: Deep Learning for Coders, 2020\r\n",
      "Home-page: https://github.com/fastai/fastbook\r\n",
      "Author: Jeremy Howard and Sylvain Gugger\r\n",
      "Author-email: info@fast.ai\r\n",
      "License: Apache Software License 2.0\r\n",
      "Location: /opt/conda/envs/fastai/lib/python3.8/site-packages\r\n",
      "Requires: fastai, ipywidgets, pandas, pip, sentencepiece, nbdev, requests, packaging\r\n",
      "Required-by: \r\n"
     ]
    }
   ],
   "source": [
    "#! pip show fastbook"
   ]
  },
  {
   "cell_type": "code",
   "execution_count": 14,
   "metadata": {},
   "outputs": [
    {
     "name": "stdout",
     "output_type": "stream",
     "text": [
      "Name: fastcore\r\n",
      "Version: 1.3.12\r\n",
      "Summary: Python supercharged for fastai development\r\n",
      "Home-page: https://github.com/fastai/fastcore/tree/master/\r\n",
      "Author: Jeremy Howard and Sylvain Gugger\r\n",
      "Author-email: infos@fast.ai\r\n",
      "License: Apache Software License 2.0\r\n",
      "Location: /opt/conda/envs/fastai/lib/python3.8/site-packages\r\n",
      "Requires: pip, packaging\r\n",
      "Required-by: nbdev, fastai2, fastai\r\n"
     ]
    }
   ],
   "source": [
    "#!pip show fastcore"
   ]
  },
  {
   "cell_type": "code",
   "execution_count": null,
   "metadata": {},
   "outputs": [],
   "source": []
  },
  {
   "cell_type": "code",
   "execution_count": null,
   "metadata": {},
   "outputs": [],
   "source": []
  }
 ],
 "metadata": {
  "kernelspec": {
   "display_name": "Python 3",
   "language": "python",
   "name": "python3"
  },
  "language_info": {
   "codemirror_mode": {
    "name": "ipython",
    "version": 3
   },
   "file_extension": ".py",
   "mimetype": "text/x-python",
   "name": "python",
   "nbconvert_exporter": "python",
   "pygments_lexer": "ipython3",
   "version": "3.8.5"
  }
 },
 "nbformat": 4,
 "nbformat_minor": 4
}
